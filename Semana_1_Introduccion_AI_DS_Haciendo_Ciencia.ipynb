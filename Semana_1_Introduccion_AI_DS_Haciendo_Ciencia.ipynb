{
  "nbformat": 4,
  "nbformat_minor": 0,
  "metadata": {
    "colab": {
      "provenance": []
    },
    "kernelspec": {
      "name": "python3",
      "display_name": "Python 3"
    },
    "language_info": {
      "name": "python"
    }
  },
  "cells": [
    {
      "cell_type": "markdown",
      "source": [
        "# Semana 1: Uso de Pandas y NumPy.\n",
        "## Práctica Dirigida\n",
        "\n",
        "Objetivo: Familiarizarse con la carga, inspección, selección y filtrado de datos usando Pandas y NumPy.\n",
        "\n",
        "\n",
        "\n",
        "Author: Dan Santivañez\n",
        "\n",
        "Organización: Haciendo Ciencia"
      ],
      "metadata": {
        "id": "X9XkjC7nccq3"
      }
    },
    {
      "cell_type": "markdown",
      "source": [
        "# ¿Qué es Pandas?\n",
        "\n",
        "Pandas es una biblioteca de Python diseñada para la **manipulación y análisis de datos tabulares**. Permite trabajar con datos estructurados (como tablas o archivos CSV) de forma sencilla y eficiente, utilizando dos estructuras principales: **Series** (columnas unidimensionales) y **DataFrames** (tablas bidimensionales).\n",
        "\n",
        "### Características principales:\n",
        "- **Carga de datos**: Lee archivos como CSV fácilmente (ej. `movies.csv`, `ratings.csv`).\n",
        "- **Inspección y limpieza**: Ofrece funciones para explorar datos (`head()`, `info()`) y manejar valores nulos.\n",
        "- **Selección y filtrado**: Permite seleccionar columnas, filtrar filas y realizar operaciones complejas sin bucles.\n",
        "- **Construido sobre NumPy**: Combina la eficiencia de NumPy con una interfaz amigable para datos tabulares.\n",
        "\n",
        "\n",
        "\n"
      ],
      "metadata": {
        "id": "bkruKxKYfs-P"
      }
    },
    {
      "cell_type": "markdown",
      "source": [
        "# ¿Qué es NumPy?\n",
        "\n",
        "NumPy es una biblioteca fundamental de Python para **computación numérica**. Proporciona soporte para trabajar con **arrays multidimensionales** (objetos llamados `ndarray`) y ofrece funciones matemáticas de alto rendimiento para operar sobre ellos.\n",
        "\n",
        "### Características principales:\n",
        "- **Arrays eficientes**: Los arrays de NumPy son más rápidos y ocupan menos memoria que las listas de Python.\n",
        "- **Operaciones vectorizadas**: Permite realizar cálculos matemáticos (sumas, multiplicaciones, etc.) en todos los elementos de un array sin necesidad de bucles.\n",
        "- **Base para otras bibliotecas**: NumPy es la base de Pandas, SciPy, y otras herramientas de análisis de datos."
      ],
      "metadata": {
        "id": "T2FXmTR6fN8V"
      }
    },
    {
      "cell_type": "markdown",
      "source": [
        "##Instrucciones:\n",
        "\n",
        "Descarga los archivos movies.csv y ratings.csv desde el enlace de Kaggle proporcionado."
      ],
      "metadata": {
        "id": "oAmZei3SeDbD"
      }
    },
    {
      "cell_type": "code",
      "execution_count": 4,
      "metadata": {
        "colab": {
          "base_uri": "https://localhost:8080/"
        },
        "id": "NhaWPg7vcC37",
        "outputId": "4fcd387c-2ba7-4d20-f7c8-c3c77147ca4c"
      },
      "outputs": [
        {
          "output_type": "stream",
          "name": "stdout",
          "text": [
            "Dirección de los archivos: /kaggle/input/movie-recommendation-system\n"
          ]
        }
      ],
      "source": [
        "import kagglehub\n",
        "import pandas as pd\n",
        "import numpy as np\n",
        "import os\n",
        "\n",
        "# Descargar la base d\n",
        "path = kagglehub.dataset_download(\"parasharmanas/movie-recommendation-system\")\n",
        "\n",
        "print(\"Dirección de los archivos:\", path)\n",
        "\n",
        "# Construct the file paths for movies.csv and ratings.csv\n",
        "movies_path = os.path.join(path, 'movies.csv')\n",
        "ratings_path = os.path.join(path, 'ratings.csv')\n",
        "\n"
      ]
    },
    {
      "cell_type": "markdown",
      "source": [
        "#### 1. Inspección inicial de movies_df\n",
        "\n",
        "Muestra las primeras 5 filas de movies_df usando head().\n",
        "Lista los nombres de las columnas de movies_df.\n",
        "\n"
      ],
      "metadata": {
        "id": "8nsMAMP3genf"
      }
    },
    {
      "cell_type": "code",
      "source": [
        "# Cargar los datos\n",
        "movies_df = pd.read_csv(movies_path)\n",
        "ratings_df = pd.read_csv(ratings_path)"
      ],
      "metadata": {
        "id": "h92adM0ceZSL"
      },
      "execution_count": 6,
      "outputs": []
    },
    {
      "cell_type": "code",
      "source": [
        "# Películas\n",
        "n=5\n",
        "print(f\"Primeras {n} películas:\")\n",
        "movies_df.head(n)"
      ],
      "metadata": {
        "id": "ajItxkJJiq9N"
      },
      "execution_count": null,
      "outputs": []
    },
    {
      "cell_type": "code",
      "source": [
        "n=5\n",
        "print(f\"Primeros {n} ratings:\")\n",
        "ratings_df.head(n)"
      ],
      "metadata": {
        "id": "ZOjIcPsKipwU"
      },
      "execution_count": null,
      "outputs": []
    },
    {
      "cell_type": "markdown",
      "source": [
        "#### 2. Dimensiones de los datos\n",
        "\n",
        "Usa shape para encontrar el número de filas y columnas en movies_df y ratings_df."
      ],
      "metadata": {
        "id": "hQ6ANWrvgpR4"
      }
    },
    {
      "cell_type": "code",
      "source": [
        "print(\"Dimensiones de movies_df:\", movies_df.shape)\n",
        "print(\"Dimensiones de ratings_df:\", ratings_df.shape)\n"
      ],
      "metadata": {
        "id": "s4cuPWBogeIR"
      },
      "execution_count": null,
      "outputs": []
    },
    {
      "cell_type": "markdown",
      "source": [
        "#### 3. Resumen de los datos\n",
        "\n",
        "Utiliza info() en ratings_df para verificar los tipos de datos y valores nulos.\n",
        "\n",
        "¿Cuál es el tipo de dato de la columna rating?"
      ],
      "metadata": {
        "id": "Dga0JYazju64"
      }
    },
    {
      "cell_type": "code",
      "source": [
        "ratings_df.info()"
      ],
      "metadata": {
        "id": "unvbnwLZfynH"
      },
      "execution_count": null,
      "outputs": []
    },
    {
      "cell_type": "markdown",
      "source": [
        "#### 4. Estadística descriptiva\n",
        "\n",
        "Utiliza describe() en ratings_df para obtener estadísticas de la columna rating.\n",
        "\n",
        "¿Cuál es el rating promedio?"
      ],
      "metadata": {
        "id": "7lGcdoC-kCl2"
      }
    },
    {
      "cell_type": "code",
      "source": [
        "estadisticas_sin_count = ratings_df.describe().drop(index='count').round(2)\n",
        "estadisticas_sin_count"
      ],
      "metadata": {
        "id": "nOC_d4bBj1AO"
      },
      "execution_count": null,
      "outputs": []
    },
    {
      "cell_type": "markdown",
      "source": [
        "#### 5. Seleccionar columnas\n",
        "\n",
        "Selecciona y muestra solo la columna title de movies_df.\n",
        "\n",
        "¿El resultado es una Series o un DataFrame?\n",
        "\n",
        "Pregunta: ¿Cuál es la media de los ratings?"
      ],
      "metadata": {
        "id": "v8TLC0zWkZUH"
      }
    },
    {
      "cell_type": "code",
      "source": [
        "titles = movies_df['title']\n",
        "print(titles)\n",
        "print(type(titles))  # Respuesta: pandas.core.series.Series"
      ],
      "metadata": {
        "id": "ztarGqRtldmj"
      },
      "execution_count": null,
      "outputs": []
    },
    {
      "cell_type": "markdown",
      "source": [
        "#### 6. Seleccionar múltiples columnas\n",
        "\n",
        "Crea un nuevo DataFrame con solo movieId y genres de movies_df.\n",
        "\n",
        "Muestra las primeras 3 filas."
      ],
      "metadata": {
        "id": "Q5XLELWvmE8q"
      }
    },
    {
      "cell_type": "code",
      "source": [
        "subset_df = movies_df[['movieId', 'genres']]\n",
        "print(subset_df.head(3))"
      ],
      "metadata": {
        "id": "g5pFPzk5mDNS"
      },
      "execution_count": null,
      "outputs": []
    },
    {
      "cell_type": "markdown",
      "source": [
        "#### 7. Filtrado Simple\n",
        "\n",
        "Filtra movies_df para mostrar películas que contengan \"Comedy\" en la columna genres (usa str.contains('Comedy', na=False)).\n",
        "\n",
        "¿Cuántas películas son comedias?"
      ],
      "metadata": {
        "id": "mRjYIMEzmL97"
      }
    },
    {
      "cell_type": "code",
      "source": [
        "# Forma de realizar la consulta (Obten los registros de df movies, aquellos que en generos contengan Comedy muestralos excepto los vacíos)\n",
        "comedy_movies = movies_df[movies_df['genres'].str.contains('Comedy', na=False)]\n",
        "print(comedy_movies)\n",
        "print(\"Número de películas de comedia:\", len(comedy_movies))\n"
      ],
      "metadata": {
        "id": "DmvfvCE2mMgj"
      },
      "execution_count": null,
      "outputs": []
    },
    {
      "cell_type": "markdown",
      "source": [
        "#### 8. Filtrado con Múltiples Condiciones\n",
        "\n",
        "Filtra ratings_df para mostrar filas donde rating > 4.0 y userId == 1.\n",
        "\n",
        "Muestra las primeras 5 filas del resultado."
      ],
      "metadata": {
        "id": "5Q2tRJAEnMas"
      }
    },
    {
      "cell_type": "code",
      "source": [
        "high_rated_user1 = ratings_df[(ratings_df['rating'] > 4.0) & (ratings_df['userId'] == 1)]\n",
        "print(high_rated_user1.head())\n"
      ],
      "metadata": {
        "id": "2rhDTLswoVAv"
      },
      "execution_count": null,
      "outputs": []
    },
    {
      "cell_type": "markdown",
      "source": [
        "#### 9. Operaciones con NumPy\n",
        "\n",
        "Convierte la columna rating de ratings_df a un arreglo de NumPy.\n",
        "\n",
        "Calcula la mediana de los ratings usando np.median()."
      ],
      "metadata": {
        "id": "kf87MyIKofgO"
      }
    },
    {
      "cell_type": "code",
      "source": [
        "ratings_array = ratings_df['rating'].to_numpy()\n",
        "median_rating = np.median(ratings_array)\n",
        "print(\"Mediana de los ratings:\", median_rating)\n"
      ],
      "metadata": {
        "id": "RxYDMt1-oj-f"
      },
      "execution_count": null,
      "outputs": []
    },
    {
      "cell_type": "markdown",
      "source": [
        "#### 10. Verificación de Datos Faltantes\n",
        "\n",
        "Utiliza isnull().sum() para contar los valores nulos en cada columna de movies_df y ratings_df.\n",
        "\n",
        "¿Existen valores nulos?"
      ],
      "metadata": {
        "id": "41XpZoZVoohp"
      }
    },
    {
      "cell_type": "code",
      "source": [
        "print(\"Valores nulos en movies_df:\\n\", movies_df.isnull().sum())\n",
        "print(\"Valores nulos en ratings_df:\\n\", ratings_df.isnull().sum())"
      ],
      "metadata": {
        "id": "7kySXlzAoseW"
      },
      "execution_count": null,
      "outputs": []
    },
    {
      "cell_type": "markdown",
      "source": [
        "## Problemas más complejos"
      ],
      "metadata": {
        "id": "MP-j7djqo5Pn"
      }
    },
    {
      "cell_type": "markdown",
      "source": [
        "#### 1. Contando Películas de Comedia\n",
        "\n",
        "Agrega una columna is_comedy a movies_df que sea True si \"Comedy\" está presente en genres y False en caso contrario.\n",
        "\n",
        "Cuenta el número de películas de comedia."
      ],
      "metadata": {
        "id": "5g3xpbIco8LP"
      }
    },
    {
      "cell_type": "code",
      "source": [
        "movies_df['is_comedy'] = movies_df['genres'].str.contains('Comedy', na=False)\n",
        "comedy_count = movies_df['is_comedy'].sum()\n",
        "print(\"Número de películas de comedia:\", comedy_count)\n",
        "# Explicación: str.contains busca 'Comedy' en genres; sum() cuenta los valores True.\n"
      ],
      "metadata": {
        "id": "OWgCSwNdqDgY"
      },
      "execution_count": null,
      "outputs": []
    },
    {
      "cell_type": "markdown",
      "source": [
        "#### 2. Rating Promedio por Película\n",
        "\n",
        "Agrupa ratings_df por movieId y calcula el rating promedio para cada película.\n",
        "\n",
        "Muestra las primeras 5 filas."
      ],
      "metadata": {
        "id": "nOSkTFIxpdzv"
      }
    },
    {
      "cell_type": "code",
      "source": [
        "avg_ratings = ratings_df.groupby('movieId')['rating'].mean().reset_index()\n",
        "print(avg_ratings.head())\n",
        "# Explicación: groupby agrupa los ratings por movieId; mean() calcula el promedio.\n"
      ],
      "metadata": {
        "id": "kTxXwmWqqFix"
      },
      "execution_count": null,
      "outputs": []
    },
    {
      "cell_type": "markdown",
      "source": [
        "#### 3. Películas Mejor Valoradas\n",
        "Une movies_df con el promedio de ratings obtenido en la pregunta anterior utilizando movieId.\n",
        "\n",
        "Filtra las películas con un rating promedio > 4.5.\n",
        "\n",
        "Muestra los títulos y los ratings promedio de las primeras 5 películas que cumplan la condición."
      ],
      "metadata": {
        "id": "vOPTsn0dpii3"
      }
    },
    {
      "cell_type": "code",
      "source": [
        "merged_df = movies_df.merge(avg_ratings, on='movieId')\n",
        "top_rated = merged_df[merged_df['rating'] > 4.5][['title', 'rating']]\n",
        "print(top_rated.head())\n",
        "# Explicación: merge combina los DataFrames; el filtrado mantiene solo las películas mejor valoradas.\n"
      ],
      "metadata": {
        "id": "HzCY3dWeqF_h"
      },
      "execution_count": null,
      "outputs": []
    },
    {
      "cell_type": "markdown",
      "source": [
        "#### 4. Usuarios Más Activos\n",
        "\n",
        "Agrupa ratings_df por userId y cuenta el número de ratings por usuario.\n",
        "\n",
        "Ordena en forma descendente y muestra los 10 usuarios principales."
      ],
      "metadata": {
        "id": "TkBheVSzpq3o"
      }
    },
    {
      "cell_type": "code",
      "source": [
        "user_activity = ratings_df.groupby('userId').size().sort_values(ascending=False)\n",
        "print(user_activity.head(10))\n",
        "# Explicación: size() cuenta los ratings por usuario; sort_values() ordena de mayor a menor.\n"
      ],
      "metadata": {
        "id": "zwfjW4EfqGdq"
      },
      "execution_count": null,
      "outputs": []
    },
    {
      "cell_type": "markdown",
      "source": [
        "#### 5. Distribución de Ratings\n",
        "\n",
        "\n",
        "Utiliza value_counts() en la columna rating de ratings_df para contar la cantidad de cada rating.\n",
        "\n",
        "¿Cuál es el rating más común?\n"
      ],
      "metadata": {
        "id": "9TizdjhupwLY"
      }
    },
    {
      "cell_type": "code",
      "source": [
        "rating_counts = ratings_df['rating'].value_counts()\n",
        "print(rating_counts)\n",
        "most_common = rating_counts.idxmax()\n",
        "print(\"Rating más común:\", most_common)\n",
        "# Explicación: value_counts() cuenta los ratings; idxmax() encuentra el rating más frecuente.\n"
      ],
      "metadata": {
        "id": "ykNziK01qG7R"
      },
      "execution_count": null,
      "outputs": []
    },
    {
      "cell_type": "markdown",
      "source": [
        "#### 6. Utilizando Lambda\n",
        "\n",
        "Utilizando el DataFrame movies_df, crea una nueva columna llamada **genre_count** que contenga el número de géneros asociados a cada película. Para ello, usa el método apply() junto con una función lambda que divida la cadena de la columna genres por el delimitador \"|\" y cuente el número de elementos resultantes."
      ],
      "metadata": {
        "id": "jevJdk64rFPc"
      }
    },
    {
      "cell_type": "code",
      "source": [
        "# Crear la nueva columna 'genre_count' que cuenta la cantidad de géneros en cada película\n",
        "movies_df['genre_count'] = movies_df['genres'].apply(lambda x: len(x.split('|')))\n",
        "\n",
        "# Mostrar las primeras filas para verificar el resultado\n",
        "print(movies_df[['title', 'genres', 'genre_count']].head())\n"
      ],
      "metadata": {
        "id": "muMEB0pyrFf8"
      },
      "execution_count": null,
      "outputs": []
    },
    {
      "cell_type": "markdown",
      "source": [
        "# Ejercicio Reto\n",
        "\n",
        "Escribe una función que reciba un userId como entrada y realice lo siguiente:\n",
        "\n",
        "- Identifique los **géneros de las películas valoradas con ≥4.0** por el usuario (usando ratings_df y movies_df).\n",
        "\n",
        "- Encuentre **otras películas** (no valoradas por el usuario) que **compartan al menos un género con estas películas** altamente valoradas.\n",
        "\n",
        "- Calcule el **rating promedio para estas películas candidatas**, considerando **únicamente aquellas películas con al menos 50 valoraciones**.\n",
        "\n",
        "- Devuelva las **5 películas no valoradas con los ratings promedio más altos**, incluyendo sus títulos, géneros y el promedio de ratings.\n",
        "\n",
        "Aplica la función para userId = 1 y muestra los resultados."
      ],
      "metadata": {
        "id": "-_-Ei_anpwg_"
      }
    },
    {
      "cell_type": "code",
      "source": [],
      "metadata": {
        "id": "kjfvNQ4Eo7kf"
      },
      "execution_count": null,
      "outputs": []
    }
  ]
}