{
  "nbformat": 4,
  "nbformat_minor": 0,
  "metadata": {
    "colab": {
      "provenance": []
    },
    "kernelspec": {
      "name": "python3",
      "display_name": "Python 3"
    },
    "language_info": {
      "name": "python"
    }
  },
  "cells": [
    {
      "cell_type": "markdown",
      "source": [
        "# Semana 2: EDA e Introducción a la visualización de datos con Matplotlib.\n",
        "## Práctica Dirigida\n",
        "\n",
        "\n",
        "### Objetivos:\n",
        "*   Aprender a cargar y explorar un dataset usando Pandas.\n",
        "*   Realizar análisis univariado y bivariado con visualización.\n",
        "*   Utilizar herramientas de automatización para EDA.\n",
        "*   Interpretar los resultados de la exploración de datos.\n"
      ],
      "metadata": {
        "id": "X9XkjC7nccq3"
      }
    },
    {
      "cell_type": "markdown",
      "source": [
        "# **Información Detallada sobre el Dataset:**\n",
        "\n",
        "El dataset \"Netflix Movies and TV Shows\" contiene información sobre películas y series disponibles en Netflix hasta cierto punto en el tiempo. Es una base de datos pública obtenida de Kaggle, una plataforma reconocida por alojar datasets y desafíos de ciencia de datos. Este conjunto de datos es particularmente útil para realizar un análisis exploratorio de datos (EDA) debido a su diversidad de tipos de variables y su relevancia cultural, lo que lo hace atractivo para estudiantes y analistas.\n",
        "\n",
        "\n",
        "* **Origen**: Extraído del catálogo de Netflix y compartido en Kaggle por el usuario Shivam Bansal. Representa una instantánea del contenido disponible en la plataforma en un momento específico.\n",
        "\n",
        "\n",
        "\n",
        "* **Propósito**: Su objetivo principal es permitir el análisis del catálogo de Netflix, explorando aspectos como tendencias de producción, distribución geográfica, géneros populares y duración del contenido.\n",
        "\n",
        "\n",
        "\n",
        "* **Variables clave**:\n",
        "  - `type`: Tipo de contenido (película o serie de TV).\n",
        "  - `title`: Título del contenido.\n",
        "  - `director`: Nombre(s) del director o directores.\n",
        "  - `cast`: Lista de actores principales.\n",
        "  - `country`: País o países de producción.\n",
        "  - `release_year`: Año de lanzamiento del contenido.\n",
        "  - `rating`: Clasificación por edades (e.g., TV-MA, PG-13).\n",
        "  - `duration`: Duración en minutos para películas o número de temporadas para series.\n",
        "  - `listed_in`: Géneros o categorías asociadas al contenido.\n",
        "  - `description`: Breve sinopsis.\n",
        "  - `date_added`: Fecha en que el contenido fue añadido a Netflix.\n",
        "  - `show_id`: Identificador único del contenido.\n",
        "\n",
        "\n",
        "* **Tamaño**: Consta de aproximadamente 8807 filas y 12 columnas, lo que lo hace manejable pero suficientemente grande para un análisis significativo.\n",
        "\n",
        "\n"
      ],
      "metadata": {
        "id": "bkruKxKYfs-P"
      }
    },
    {
      "cell_type": "markdown",
      "source": [
        "#### 1. **Carga de Librerías**:\n",
        "\n",
        "Importamos las herramientas necesarias para el análisis y visualización."
      ],
      "metadata": {
        "id": "T2FXmTR6fN8V"
      }
    },
    {
      "cell_type": "code",
      "source": [
        "!pip uninstall pandas_profiling -y\n",
        "!pip install ydata-profiling\n",
        "import pandas as pd\n",
        "import matplotlib.pyplot as plt\n",
        "import seaborn as sns\n",
        "from ydata_profiling import ProfileReport"
      ],
      "metadata": {
        "collapsed": true,
        "id": "fCsfUH-XZKXj"
      },
      "execution_count": null,
      "outputs": []
    },
    {
      "cell_type": "markdown",
      "source": [
        "**Explicación**:\n",
        "\n",
        "\n",
        "* **Pandas**: Biblioteca esencial para manipulación de datos, usada para cargar, limpiar y transformar el dataset.\n",
        "\n",
        "* **Matplotlib**: Biblioteca fundamental de visualización en Python que permite crear gráficos personalizados como histogramas, gráficos de barras y diagramas de dispersión. Ofrece control detallado sobre aspectos como ejes, colores y etiquetas, siendo ideal para visualizaciones básicas y avanzadas.\n",
        "\n",
        "* **Seaborn**: Construida sobre Matplotlib, simplifica la creación de gráficos estadísticos con una sintaxis más intuitiva y estilos visuales atractivos por defecto. Es excelente para análisis univariados y bivariados (e.g., boxplots, heatmaps).\n",
        "\n",
        "* **Ydata-Profiling**: Herramienta de automatización que genera reportes detallados del dataset, útil para una exploración inicial rápida.\n",
        "\n",
        "**Nota**: En entornos como Google Colab, puede ser necesario instalar pandas-profiling con !pip install pandas-profiling."
      ],
      "metadata": {
        "id": "25jTcO0rZql8"
      }
    },
    {
      "cell_type": "markdown",
      "source": [
        "#### 2. **Descargar el dataset**:\n",
        "\n"
      ],
      "metadata": {
        "id": "8nsMAMP3genf"
      }
    },
    {
      "cell_type": "code",
      "execution_count": null,
      "metadata": {
        "id": "NhaWPg7vcC37"
      },
      "outputs": [],
      "source": [
        "import kagglehub\n",
        "import pandas as pd\n",
        "import numpy as np\n",
        "import os\n",
        "\n",
        "# Descargar la base d\n",
        "path = kagglehub.dataset_download(\"shivamb/netflix-shows\")\n",
        "\n",
        "print(\"Dirección de los archivos:\", path)\n",
        "\n",
        "# Construct the file paths for movies.csv and ratings.csv\n",
        "netflix_titles_path = os.path.join(path, 'netflix_titles.csv')\n",
        "\n",
        "\n"
      ]
    },
    {
      "cell_type": "markdown",
      "source": [
        "#### 3. **Cargar con Pandas**:"
      ],
      "metadata": {
        "id": "IwBNQ_n2bJxa"
      }
    },
    {
      "cell_type": "code",
      "source": [
        "# Cargar los datos\n",
        "netflix_titles_df = pd.read_csv(netflix_titles_path)"
      ],
      "metadata": {
        "id": "h92adM0ceZSL"
      },
      "execution_count": null,
      "outputs": []
    },
    {
      "cell_type": "code",
      "source": [
        "netflix_titles_df.head()"
      ],
      "metadata": {
        "id": "ajItxkJJiq9N"
      },
      "execution_count": null,
      "outputs": []
    },
    {
      "cell_type": "markdown",
      "source": [
        "#### 4. **Inspección**"
      ],
      "metadata": {
        "id": "EAzi6qLpD0im"
      }
    },
    {
      "cell_type": "code",
      "source": [
        "## Tipos de datos y cantidad de no nulos\n",
        "netflix_titles_df.info()"
      ],
      "metadata": {
        "id": "ogEfidkkbUsA"
      },
      "execution_count": null,
      "outputs": []
    },
    {
      "cell_type": "markdown",
      "source": [
        "Revela tipos de datos (e.g., object para strings, int64 para enteros) y valores no nulos, destacando columnas con datos faltantes como director."
      ],
      "metadata": {
        "id": "YS2xh5k-Ejh4"
      }
    },
    {
      "cell_type": "code",
      "source": [
        "## Estadística descriptiva de los valores numéricos\n",
        "netflix_titles_df.describe()"
      ],
      "metadata": {
        "id": "9MRSTGEXElG3"
      },
      "execution_count": null,
      "outputs": []
    },
    {
      "cell_type": "markdown",
      "source": [
        "Para release_year, muestra el rango (mínimo, máximo), media y percentiles, indicando la distribución temporal del contenido.\n",
        "\n",
        "Los años de lanzamiento (release_year) van de 1925 a 2021, con una media de 2014."
      ],
      "metadata": {
        "id": "oeUk8LRIFH_-"
      }
    },
    {
      "cell_type": "code",
      "source": [
        "# Valores faltantes\n",
        "netflix_titles_df.isnull().sum().to_frame(\"Cantidad de nulos\")"
      ],
      "metadata": {
        "id": "gA8tR4Y5FwgQ"
      },
      "execution_count": null,
      "outputs": []
    },
    {
      "cell_type": "markdown",
      "source": [
        "Identifica columnas con datos incompletos (e.g., director con ~2634 faltantes), un aspecto clave para decidir estrategias de limpieza."
      ],
      "metadata": {
        "id": "38d6oslMGr0z"
      }
    },
    {
      "cell_type": "code",
      "source": [
        "### Distribución de type de contenido en netflix\n",
        "netflix_titles_df['type'].value_counts()"
      ],
      "metadata": {
        "id": "Y8CVmFg5G6GN"
      },
      "execution_count": null,
      "outputs": []
    },
    {
      "cell_type": "markdown",
      "source": [
        "Hay más películas (6131) que series (2676)."
      ],
      "metadata": {
        "id": "6k9VUeEbHL1p"
      }
    },
    {
      "cell_type": "markdown",
      "source": [
        "#### 5. **Limpieza**\n",
        "Aquí preparamos los datos para el análisis, manejando valores faltantes, duplicados y transformando variables.\n",
        "\n"
      ],
      "metadata": {
        "id": "Wr-MC_LFG4b3"
      }
    },
    {
      "cell_type": "code",
      "source": [
        "# Valores faltantes: Decidir si eliminar filas o imputar valores.\n",
        "netflix_titles_df.dropna(inplace=True)\n",
        "netflix_titles_df.head()"
      ],
      "metadata": {
        "id": "C31iqtpaHh7X"
      },
      "execution_count": null,
      "outputs": []
    },
    {
      "cell_type": "markdown",
      "source": [
        "Justificación: Elimina filas con valores faltantes para simplificar el análisis, aunque en escenarios reales podrías imputar datos."
      ],
      "metadata": {
        "id": "_f_J8wVcIqSQ"
      }
    },
    {
      "cell_type": "code",
      "source": [
        "# Transformación de datos\n",
        "# Extraer duración numérica para películas\n",
        "\n",
        "movies = netflix_titles_df[netflix_titles_df['type'] == 'Movie'].copy()\n",
        "movies['duration_min'] = movies['duration'].str.extract('(\\d+)').astype(float)\n",
        "movies.head()"
      ],
      "metadata": {
        "id": "em0w3EpsI-jg"
      },
      "execution_count": null,
      "outputs": []
    },
    {
      "cell_type": "markdown",
      "source": [
        "Nueva columna duration_min con valores como 90.0 para \"90 min\"."
      ],
      "metadata": {
        "id": "PHkOjEavI_ZN"
      }
    },
    {
      "cell_type": "code",
      "source": [
        "# Verificar duplicados\n",
        "print(\"Número de duplicados:\", netflix_titles_df.duplicated().sum())\n",
        "netflix_titles_df.drop_duplicates(inplace=True)\n"
      ],
      "metadata": {
        "id": "8NriFmqrJDNY"
      },
      "execution_count": null,
      "outputs": []
    },
    {
      "cell_type": "code",
      "source": [
        "# Verificar cambios\n",
        "print(\"Tamaño del dataset tras limpieza:\", netflix_titles_df.shape)\n",
        "print(\"Primeras filas de películas con duración numérica:\")\n",
        "print(movies[['title', 'duration', 'duration_min']].head())\n"
      ],
      "metadata": {
        "id": "uKcyfqb3JSOX"
      },
      "execution_count": null,
      "outputs": []
    },
    {
      "cell_type": "markdown",
      "source": [
        "#### 6. **Visualización de Datos**"
      ],
      "metadata": {
        "id": "PCthPrLyJ9Ig"
      }
    },
    {
      "cell_type": "markdown",
      "source": [
        "##### a. Análisis Univariado\n",
        "Exploramos una variable a la vez."
      ],
      "metadata": {
        "id": "pXb6AU9KKkWR"
      }
    },
    {
      "cell_type": "code",
      "source": [
        "# Histograma de años de lanzamiento:\n",
        "\n",
        "plt.figure(figsize=(10, 6))\n",
        "plt.hist(netflix_titles_df['release_year'], bins=20, color='skyblue', edgecolor='black')\n",
        "plt.title('Distribución de Años de Lanzamiento')\n",
        "plt.xlabel('Año')\n",
        "plt.ylabel('Frecuencia')\n",
        "plt.grid(True, alpha=0.3)\n",
        "plt.savefig('release_year_hist.png')\n",
        "\n"
      ],
      "metadata": {
        "id": "PjCTV82cKgcl"
      },
      "execution_count": null,
      "outputs": []
    },
    {
      "cell_type": "markdown",
      "source": [
        " Muestra un aumento en contenido reciente, con un pico en los últimos años."
      ],
      "metadata": {
        "id": "iMfSmjjRKuTZ"
      }
    },
    {
      "cell_type": "code",
      "source": [
        "# Gráfico de barras de calificaciones\n",
        "\n",
        "plt.figure(figsize=(10, 6))\n",
        "sns.countplot(x='rating', data=netflix_titles_df, palette='viridis')\n",
        "plt.title('Distribución de Calificaciones')\n",
        "plt.xlabel('Calificación')\n",
        "plt.ylabel('Cantidad')\n",
        "plt.xticks(rotation=45)\n",
        "plt.savefig('rating_count.png')\n"
      ],
      "metadata": {
        "id": "HNeAjszpKgae"
      },
      "execution_count": null,
      "outputs": []
    },
    {
      "cell_type": "markdown",
      "source": [
        " Destaca calificaciones como TV-MA o TV-14 como las más comunes. Reflejando el público objetivo de Netflix\n",
        "\n"
      ],
      "metadata": {
        "id": "Up8dauX3LFGY"
      }
    },
    {
      "cell_type": "code",
      "source": [
        "# Boxplot de duración de películas\n",
        "plt.figure(figsize=(8, 6))\n",
        "sns.boxplot(x='duration_min', data=movies, color='lightgreen')\n",
        "plt.title('Distribución de Duración de Películas')\n",
        "plt.xlabel('Duración (minutos)')\n",
        "plt.savefig('duration_boxplot.png')\n"
      ],
      "metadata": {
        "id": "Gx2bKW4jLIvY"
      },
      "execution_count": null,
      "outputs": []
    },
    {
      "cell_type": "markdown",
      "source": [
        "La mayoría de las películas duran entre 80-120 minutos, con outliers en ambos extremos."
      ],
      "metadata": {
        "id": "9XAZJXLfOS6o"
      }
    },
    {
      "cell_type": "markdown",
      "source": [
        "##### b. Análisis Bivariado\n",
        "\n",
        "Examinamos relaciones entre variables."
      ],
      "metadata": {
        "id": "ALuiou1dLoyw"
      }
    },
    {
      "cell_type": "code",
      "source": [
        "# Barras apiladas de tipo por país\n",
        "\n",
        "plt.figure(figsize=(12, 6))\n",
        "top_countries = netflix_titles_df['country'].value_counts().head(10).index\n",
        "df_top = netflix_titles_df[netflix_titles_df['country'].isin(top_countries)]\n",
        "country_type_count = df_top.groupby(['country', 'type']).size().unstack(fill_value=0)\n",
        "country_type_count.plot(kind='bar', stacked=True, colormap='Set2', figsize=(12, 6))\n",
        "plt.title('Películas y Series por País (Top 10)')\n",
        "plt.xlabel('País')\n",
        "plt.ylabel('Cantidad')\n",
        "plt.legend(title='Tipo')\n",
        "plt.savefig('country_type_stacked.png')"
      ],
      "metadata": {
        "id": "OknmMr6ZOfNo"
      },
      "execution_count": null,
      "outputs": []
    },
    {
      "cell_type": "markdown",
      "source": [
        "EE.UU. lidera, con una mezcla de películas y series; India podría favorecer películas."
      ],
      "metadata": {
        "id": "R-ahRfgcJYRr"
      }
    },
    {
      "cell_type": "code",
      "source": [
        "# Boxplot de duración por calificación\n",
        "\n",
        "plt.figure(figsize=(12, 6))\n",
        "sns.boxplot(x='rating', y='duration_min', data=movies, palette='coolwarm')\n",
        "plt.title('Duración de Películas por Calificación')\n",
        "plt.xlabel('Calificación')\n",
        "plt.ylabel('Duración (minutos)')\n",
        "plt.xticks(rotation=45)\n",
        "plt.savefig('duration_by_rating.png')"
      ],
      "metadata": {
        "id": "7oG-5i_zHluP"
      },
      "execution_count": null,
      "outputs": []
    },
    {
      "cell_type": "markdown",
      "source": [
        "Explora si calificaciones como PG-13 tienen duraciones más consistentes."
      ],
      "metadata": {
        "id": "hsITfLZ_O7t6"
      }
    },
    {
      "cell_type": "code",
      "source": [
        "# Gráfico de dispersión de año vs. duración\n",
        "\n",
        "plt.figure(figsize=(10, 6))\n",
        "sns.scatterplot(x='release_year', y='duration_min', data=movies, hue='type', size=5, alpha=0.6)\n",
        "plt.title('Año de Lanzamiento vs. Duración de Películas')\n",
        "plt.xlabel('Año de Lanzamiento')\n",
        "plt.ylabel('Duración (minutos)')\n",
        "plt.savefig('year_vs_duration_scatter.png')"
      ],
      "metadata": {
        "id": "xBER64-kPD9O"
      },
      "execution_count": null,
      "outputs": []
    },
    {
      "cell_type": "markdown",
      "source": [
        "Busca tendencias como si las películas más recientes son más cortas o largas."
      ],
      "metadata": {
        "id": "4RC78JbhPUS6"
      }
    },
    {
      "cell_type": "markdown",
      "source": [
        "#### 7. **Identificación de Patrones**\n",
        "\n"
      ],
      "metadata": {
        "id": "pUJ1XXj7GuuH"
      }
    },
    {
      "cell_type": "markdown",
      "source": [
        "A. Tendencia temporal: El histograma de release_year muestra un crecimiento exponencial en contenido reciente, reflejando la expansión de Netflix."
      ],
      "metadata": {
        "id": "7rlUmLoxPnWJ"
      }
    },
    {
      "cell_type": "markdown",
      "source": [
        "B. Audiencia objetivo: Las calificaciones predominantes (TV-MA, TV-14) sugieren un enfoque en adultos y adolescentes.\n"
      ],
      "metadata": {
        "id": "KvLz_GkJPoeR"
      }
    },
    {
      "cell_type": "markdown",
      "source": [
        "C. Duración típica: Las películas suelen durar 80-120 minutos, con excepciones notables (boxplot)."
      ],
      "metadata": {
        "id": "kdifuUtOPrIR"
      }
    },
    {
      "cell_type": "markdown",
      "source": [
        "D. Distribución geográfica: EE.UU., India y Reino Unido lideran la producción, con diferencias en preferencias por tipo (barras apiladas)."
      ],
      "metadata": {
        "id": "98Aey-yzPuin"
      }
    },
    {
      "cell_type": "markdown",
      "source": [
        "E. Relaciones: El gráfico de dispersión podría indicar si las duraciones han cambiado con el tiempo."
      ],
      "metadata": {
        "id": "wzMyCz13Pvlg"
      }
    },
    {
      "cell_type": "markdown",
      "source": [
        "## **Automatización del EDA**"
      ],
      "metadata": {
        "id": "FgDAhBrOP6yW"
      }
    },
    {
      "cell_type": "code",
      "source": [
        "\n",
        "#Usamos Pandas-Profiling para un análisis rápido.\n",
        "\n",
        "profile = ProfileReport(netflix_titles_df, title=\"Pandas Profiling Report\")\n",
        "profile.to_notebook_iframe()"
      ],
      "metadata": {
        "id": "ztarGqRtldmj"
      },
      "execution_count": null,
      "outputs": []
    },
    {
      "cell_type": "markdown",
      "source": [
        "# **Ejercicio Reto**\n",
        "\n",
        "## Exploración de Datos de con los datos de tu proyecto y si no los tienes aún con \"Students Performance in Exams\""
      ],
      "metadata": {
        "id": "nxrYirIxQsfx"
      }
    },
    {
      "cell_type": "markdown",
      "source": [
        "**Los objetivos son**:\n",
        "\n",
        "1. Aplicar EDA a un nuevo dataset.\n",
        "2. Identificar patrones y relaciones.\n",
        "3. Responder preguntas específicas mediante análisis.\n",
        "4. Estructura y Contenido"
      ],
      "metadata": {
        "id": "JtrCXky4Q2oh"
      }
    },
    {
      "cell_type": "markdown",
      "source": [
        "**La estructura de apoyo es**:\n",
        "\n",
        "El notebook está organizado en las siguientes secciones:\n",
        "\n",
        "1. **Carga de Librerías**:\n",
        "\n",
        "  Similar al Notebook 1, importando Pandas, Matplotlib, Seaborn y Pandas-Profiling.\n",
        "\n",
        "2. **Carga del Dataset**:\n",
        "  Instrucciones para descargar el dataset de Kaggle o de tu repositorio.\n",
        "\n",
        "3. **Inspección del Dataset**:\n",
        "  Se describe el dataset y su relevancia. Instrucciones para mostrar filas, información, estadísticas, y distribuciones categóricas.\n",
        "\n",
        "4. **Limpieza del Dataset**:\n",
        "   Reemplazo de nulos, Reemplazo de duplicados, Transformación de datos.\n",
        "\n",
        "5. **Visualización de Dataset**:\n",
        "\n",
        "  Visualización Univariada: Instrucciones para histogramas, gráficos de barras y diagramas de caja.\n",
        "\n",
        "  Visualización Bivariada: Instrucciones para diagramas de dispersión, boxplots y barras agrupadas.\n",
        "\n",
        "6. **Automatización**:\n",
        "  Usar Pandas-Profiling.\n"
      ],
      "metadata": {
        "id": "0CcfoBjcRB0R"
      }
    }
  ]
}